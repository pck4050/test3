{
 "cells": [
  {
   "cell_type": "raw",
   "id": "bc0484ed-5e5a-48c2-8c12-68a9201c38a2",
   "metadata": {},
   "source": [
    "---\n",
    "title : \"Test\"\n",
    "author : \"Test\"\n",
    "date : \"10/28/23\"\n",
    "categories : [test]\n",
    "---"
   ]
  },
  {
   "cell_type": "code",
   "execution_count": null,
   "id": "0387b1f3-a0c7-410d-801f-def52b9ada6c",
   "metadata": {},
   "outputs": [],
   "source": [
    "import plotly.express as ex\n",
    "import plotly.express as px\n",
    "import plotly.io as pio\n",
    "pio.renderers.default = \"plotly_mimetype+notebook_connected\"\n",
    "import numpy as np\n",
    "import pandas as pd"
   ]
  },
  {
   "cell_type": "code",
   "execution_count": null,
   "id": "53ad1632-9ae8-41c8-8241-854d2b2b0e3e",
   "metadata": {},
   "outputs": [],
   "source": [
    "df = pd.read_csv('https://raw.githubusercontent.com/kalilurrahman/datasets/main/mobilephonemktshare2020.csv')\n",
    "df.head()"
   ]
  },
  {
   "cell_type": "code",
   "execution_count": null,
   "id": "fadc72ed-54e3-45aa-810f-50e279db2c41",
   "metadata": {},
   "outputs": [],
   "source": [
    "df.set_index(\"Date\").diff().\\\n",
    "  dropna().boxplot(backend = \"plotly\")"
   ]
  }
 ],
 "metadata": {
  "kernelspec": {
   "display_name": "Python 3 (ipykernel)",
   "language": "python",
   "name": "python3"
  },
  "language_info": {
   "codemirror_mode": {
    "name": "ipython",
    "version": 3
   },
   "file_extension": ".py",
   "mimetype": "text/x-python",
   "name": "python",
   "nbconvert_exporter": "python",
   "pygments_lexer": "ipython3",
   "version": "3.11.3"
  }
 },
 "nbformat": 4,
 "nbformat_minor": 5
}
